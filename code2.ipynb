{
 "cells": [
  {
   "cell_type": "markdown",
   "metadata": {},
   "source": [
    "### Постановка задачи:\n",
    "Промоделировать стационарное распредеелние температуры в зависимости от источника тепла\n",
    "$$\\begin{cases}\n",
    "    -u'' + 9u = 20e^{-(x-1.6)^2}; \\quad x \\in (0, 3), \\\\\n",
    "    u(0) = 2, \\\\\n",
    "    u(3) = 10   \n",
    "\\end{cases}.$$"
   ]
  },
  {
   "cell_type": "markdown",
   "metadata": {},
   "source": [
    "### Необохдимый теоретический материал:"
   ]
  },
  {
   "cell_type": "markdown",
   "metadata": {},
   "source": [
    "### Решение задачи:"
   ]
  },
  {
   "cell_type": "code",
   "execution_count": 1,
   "metadata": {},
   "outputs": [],
   "source": [
    "import numpy as np\n",
    "import matplotlib.pyplot as plt"
   ]
  },
  {
   "cell_type": "code",
   "execution_count": 2,
   "metadata": {},
   "outputs": [],
   "source": [
    "optns = {\"W\" : 20, \"c\" : 1.6}\n",
    "conds = {\"u_a\" : 2, \"u_b\" : 10}\n",
    "dist = {\"a\" : 0, \"b\" : 3}\n",
    "q = 9"
   ]
  },
  {
   "cell_type": "markdown",
   "metadata": {},
   "source": [
    "Аналитическое решение при $f(x) = 0$ имеет вид:\n",
    "$$u(x) = \\frac{10 - 2e^{-9}}{e^9 - e^{-9}} \\cdot e^{3x} + \\frac{2e^{9} - 10}{e^9 - e^{-9}} \\cdot e^{-3x}.$$"
   ]
  },
  {
   "cell_type": "code",
   "execution_count": 3,
   "metadata": {},
   "outputs": [],
   "source": [
    "def solve(x):\n",
    "    c1 = (10 - 2 * np.exp(-9)) / (np.exp(9) - np.exp(-9))\n",
    "    c2 =  (2 * np.exp(9) - 10) / (np.exp(9) - np.exp(-9))\n",
    "    return c1 * np.exp(3 * x) + c2 * np.exp(-3 * x)"
   ]
  },
  {
   "cell_type": "markdown",
   "metadata": {},
   "source": [
    "Построим разностную схему:\n",
    "    $$\\begin{cases}\n",
    "        u_0 = u_a, \\\\\n",
    "        -\\frac{1}{h^2}u_0 + (\\frac{2}{h^2} + q)u_1 -\\frac{1}{h^2}u_2 = 20e^{-(x_1-1.6)^2}, \\\\\n",
    "        -\\frac{1}{h^2}u_1 + (\\frac{2}{h^2} + q)u_2 -\\frac{1}{h^2}u_3 = 20e^{-(x_2-1.6)^2}, \\\\\n",
    "        ... \\\\\n",
    "        u_N = u_b\n",
    "    \\end{cases}.$$"
   ]
  },
  {
   "cell_type": "code",
   "execution_count": 4,
   "metadata": {},
   "outputs": [],
   "source": [
    "def build_A(q, dist, n):\n",
    "    h = (dist[\"b\"] - dist[\"a\"]) / (n - 1)\n",
    "    A = np.zeros([n, n])\n",
    "\n",
    "    A[0, 0] = 1\n",
    "    A[n - 1, n - 1] = 1\n",
    "    for i in range(1, n - 1):\n",
    "        A[i, i - 1] = -1.0 / h**2\n",
    "        A[i, i] = 2.0 / h**2 + q\n",
    "        A[i, i + 1] = -1.0 / h**2\n",
    "    return A\n",
    "\n",
    "def build_b(optns, dist, conds, n):\n",
    "    h = (dist[\"b\"] - dist[\"a\"]) / (n - 1)\n",
    "    b = np.zeros(n)\n",
    "\n",
    "    b[0] = conds[\"u_a\"]\n",
    "    b[n - 1] = conds[\"u_b\"]\n",
    "    for i in range(1, n - 1):\n",
    "        b[i] = optns[\"W\"] * np.exp(-(dist[\"a\"] + i * h - optns[\"c\"])**2)\n",
    "    return b"
   ]
  },
  {
   "cell_type": "markdown",
   "metadata": {},
   "source": [
    "1. Найдем приближенное решение задачи при шаге $h = \\frac{b - a}{100}$  (по 101 точке)"
   ]
  },
  {
   "cell_type": "code",
   "execution_count": 5,
   "metadata": {},
   "outputs": [],
   "source": [
    "n = 101\n",
    "x = np.linspace(dist[\"a\"], dist[\"b\"], n, endpoint = True)\n",
    "\n",
    "A = build_A(q, dist, n)\n",
    "b = build_b(optns, dist, conds, n)\n",
    "u_init = np.linalg.solve(A, b)"
   ]
  },
  {
   "cell_type": "code",
   "execution_count": 6,
   "metadata": {},
   "outputs": [
    {
     "data": {
      "image/png": "[encoded data removed]",
      "text/plain": [
       "<Figure size 432x288 with 1 Axes>"
      ]
     },
     "metadata": {
      "needs_background": "light"
     },
     "output_type": "display_data"
    }
   ],
   "source": [
    "plt.plot(x, u_init, label = \"$u^{h}(x)|_{W = 20}$\")\n",
    "plt.ylabel(\"u(x)\")\n",
    "plt.xlabel(\"x\")\n",
    "\n",
    "plt.legend()\n",
    "plt.show()"
   ]
  },
  {
   "cell_type": "markdown",
   "metadata": {},
   "source": [
    "2. При $W = 64$ значение температуры в точке $c$ увеличиться прибилизтельно в 3 раза.\n",
    "\n",
    "   Найдем приближенное решение задачи при данной $W$:"
   ]
  },
  {
   "cell_type": "code",
   "execution_count": 7,
   "metadata": {},
   "outputs": [],
   "source": [
    "optns[\"W\"] = 64\n",
    "b = build_b(optns, dist, conds, n)\n",
    "u_new = np.linalg.solve(A, b)"
   ]
  },
  {
   "cell_type": "markdown",
   "metadata": {},
   "source": [
    "3. Построим 3 графика распределения температуры: $f(x) = 0, \\quad f(x) = 20e^{-(x-1.6)^2}, \\quad f(x) = 64e^{-(x-1.6)^2}$"
   ]
  },
  {
   "cell_type": "code",
   "execution_count": 12,
   "metadata": {},
   "outputs": [
    {
     "data": {
      "image/png": "[encoded data removed]",
      "text/plain": [
       "<Figure size 432x288 with 1 Axes>"
      ]
     },
     "metadata": {
      "needs_background": "light"
     },
     "output_type": "display_data"
    }
   ],
   "source": [
    "plt.plot(x, u_init, label = '$u^{h}(x)|_{W = 20}$')\n",
    "plt.plot(x, u_new, label = '$u^{h}(x)|_{W = 64}$')\n",
    "plt.plot(x, solve(x), label = '$u^{h}(x)|_{W = 0}$')\n",
    "plt.xlabel(\"x\")\n",
    "plt.ylabel(\"y\")\n",
    "\n",
    "plt.legend()\n",
    "plt.show()"
   ]
  },
  {
   "cell_type": "markdown",
   "metadata": {},
   "source": [
    "4. Для каждого решения найдем тепловую энергию стержня как значение $$E = \\int_{a}^{b} y^2(x)dx$$\n",
    "\n",
    "   Будем считать значение энергии стержня по формуле левых прямоугольников"
   ]
  },
  {
   "cell_type": "code",
   "execution_count": 9,
   "metadata": {},
   "outputs": [],
   "source": [
    "def get_energy(y, h):\n",
    "    I = 0\n",
    "    for i in range(0, y.size - 1):\n",
    "        I += y[i]**2\n",
    "    return h * I"
   ]
  },
  {
   "cell_type": "code",
   "execution_count": 21,
   "metadata": {},
   "outputs": [
    {
     "name": "stdout",
     "output_type": "stream",
     "text": [
      "При однородной правой части f(x) = 0: 15.953\n",
      "При мощности источника энергии W = 20: 25.369\n",
      "При мощности источника энергии W = 64: 80.196\n"
     ]
    }
   ],
   "source": [
    "h = x[1] - x[0]\n",
    "I_homogen = get_energy(solve(x), h)\n",
    "print(\"При однородной правой части f(x) = 0: {:.3f}\".format(I_homogen))\n",
    "I_init = get_energy(u_init, h)\n",
    "print(\"При мощности источника энергии W = 20: {:.3f}\".format(I_init))\n",
    "I_new = get_energy(u_new, h)\n",
    "print(\"При мощности источника энергии W = 64: {:.3f}\".format(I_new))"
   ]
  }
 ],
 "metadata": {
  "kernelspec": {
   "display_name": "Python 3 (ipykernel)",
   "language": "python",
   "name": "python3"
  },
  "language_info": {
   "codemirror_mode": {
    "name": "ipython",
    "version": 3
   },
   "file_extension": ".py",
   "mimetype": "text/x-python",
   "name": "python",
   "nbconvert_exporter": "python",
   "pygments_lexer": "ipython3",
   "version": "3.10.12"
  }
 },
 "nbformat": 4,
 "nbformat_minor": 4
}
